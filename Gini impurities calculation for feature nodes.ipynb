{
 "cells": [
  {
   "cell_type": "code",
   "execution_count": 5,
   "id": "7dd41f14",
   "metadata": {},
   "outputs": [],
   "source": [
    "import pandas as pd"
   ]
  },
  {
   "cell_type": "code",
   "execution_count": 83,
   "id": "33e5d0ce",
   "metadata": {},
   "outputs": [],
   "source": [
    "df = pd.read_csv('salaries.csv')\n",
    "company_df = df.drop(['job','degree'],axis = 1)\n",
    "job_df = df.drop(['company','degree'],axis = 1)\n",
    "degree_df = df.drop(['company','job'],axis = 1)"
   ]
  },
  {
   "cell_type": "code",
   "execution_count": 85,
   "id": "9ce4d4f3",
   "metadata": {},
   "outputs": [],
   "source": [
    "from sklearn.preprocessing import LabelEncoder\n",
    "LE = LabelEncoder()\n",
    "company_df['company'] = LE.fit_transform(company_df['company'])\n",
    "job_df['job'] = LE.fit_transform(job_df['job'])\n",
    "degree_df['degree'] = LE.fit_transform(degree_df['degree'])"
   ]
  },
  {
   "cell_type": "markdown",
   "id": "68667608",
   "metadata": {},
   "source": [
    "# Company"
   ]
  },
  {
   "cell_type": "code",
   "execution_count": 141,
   "id": "539d9a0d",
   "metadata": {},
   "outputs": [
    {
     "name": "stdout",
     "output_type": "stream",
     "text": [
      "total_population = 16\n",
      "   company  salary_more_then_100k\n",
      "6        0                      0\n",
      "7        0                      0\n",
      "8        0                      0\n",
      "9        0                      1\n",
      "for 0 yes = 1 and no = 3\n",
      "Individual gini = 0.375\n",
      "Weighted gini = 0.09375\n",
      "    company  salary_more_then_100k\n",
      "10        1                      1\n",
      "11        1                      1\n",
      "12        1                      1\n",
      "13        1                      1\n",
      "14        1                      1\n",
      "15        1                      1\n",
      "for 1 yes = 6 and no = 0\n",
      "Individual gini = 0.0\n",
      "Weighted gini = 0.0\n",
      "   company  salary_more_then_100k\n",
      "0        2                      0\n",
      "1        2                      0\n",
      "2        2                      1\n",
      "3        2                      1\n",
      "4        2                      0\n",
      "5        2                      1\n",
      "for 2 yes = 3 and no = 3\n",
      "Individual gini = 0.5\n",
      "Weighted gini = 0.1875\n",
      "Gini for this group is :0.28125\n"
     ]
    }
   ],
   "source": [
    "group_gini = 0\n",
    "total_population = len(company_df.index)\n",
    "print ('total_population = {}'.format(total_population))\n",
    "for i in range (0,3):\n",
    "    no ,yes = 0,0\n",
    "    df_loop = company_df[company_df['company']==i]\n",
    "    print (df_loop)\n",
    "    a_ = df_loop['salary_more_then_100k'].value_counts()\n",
    "    if len(a_)==2 : \n",
    "        no,yes = a_\n",
    "    else: \n",
    "        if a_.index == 0: \n",
    "            no = a_[1]\n",
    "        else: \n",
    "            yes = a_[1]\n",
    "    print ('for {} yes = {} and no = {}'.format(i,yes,no))\n",
    "    gini = 1- pow((yes/(yes+no)),2)- pow ((no/(yes+no)),2)\n",
    "    print ('Individual gini = {}'.format(gini)) \n",
    "    w_gini = (yes+no)/total_population * gini\n",
    "    print ('Weighted gini = {}'.format(w_gini))\n",
    "    group_gini = group_gini + w_gini\n",
    "print ('Gini for this group is :{}'.format(group_gini))"
   ]
  },
  {
   "cell_type": "markdown",
   "id": "ec1719f6",
   "metadata": {},
   "source": [
    "# job"
   ]
  },
  {
   "cell_type": "code",
   "execution_count": 143,
   "id": "934ed7f1",
   "metadata": {},
   "outputs": [
    {
     "name": "stdout",
     "output_type": "stream",
     "text": [
      "total_population = 16\n",
      "    job  salary_more_then_100k\n",
      "2     0                      1\n",
      "3     0                      1\n",
      "8     0                      0\n",
      "9     0                      1\n",
      "12    0                      1\n",
      "13    0                      1\n",
      "for 0 yes = 1 and no = 5\n",
      "Individual gini = 0.2777777777777777\n",
      "Weighted gini = 0.10416666666666663\n",
      "    job  salary_more_then_100k\n",
      "4     1                      0\n",
      "5     1                      1\n",
      "7     1                      0\n",
      "14    1                      1\n",
      "15    1                      1\n",
      "for 1 yes = 2 and no = 3\n",
      "Individual gini = 0.48\n",
      "Weighted gini = 0.15\n",
      "    job  salary_more_then_100k\n",
      "0     2                      0\n",
      "1     2                      0\n",
      "6     2                      0\n",
      "10    2                      1\n",
      "11    2                      1\n",
      "for 2 yes = 2 and no = 3\n",
      "Individual gini = 0.48\n",
      "Weighted gini = 0.15\n",
      "Gini for this group is :0.4041666666666667\n"
     ]
    }
   ],
   "source": [
    "group_gini = 0\n",
    "total_population = len(job_df.index)\n",
    "print ('total_population = {}'.format(total_population))\n",
    "for i in range (0,3):\n",
    "    no ,yes = 0,0\n",
    "    df_loop = job_df[job_df['job']==i]\n",
    "    print (df_loop)\n",
    "    a_ = df_loop['salary_more_then_100k'].value_counts()\n",
    "    if len(a_)==2 : \n",
    "        no,yes = a_\n",
    "    else: \n",
    "        if a_.index == 0: \n",
    "            no = a_[1]\n",
    "        else: \n",
    "            yes = a_[1]\n",
    "    print ('for {} yes = {} and no = {}'.format(i,yes,no))\n",
    "    gini = 1- pow((yes/(yes+no)),2)- pow ((no/(yes+no)),2)\n",
    "    print ('Individual gini = {}'.format(gini)) \n",
    "    w_gini = (yes+no)/total_population * gini\n",
    "    print ('Weighted gini = {}'.format(w_gini))\n",
    "    group_gini = group_gini + w_gini\n",
    "print ('Gini for this group is :{}'.format(group_gini))"
   ]
  },
  {
   "cell_type": "markdown",
   "id": "34d57cf0",
   "metadata": {},
   "source": [
    "# degree"
   ]
  },
  {
   "cell_type": "code",
   "execution_count": 148,
   "id": "7ee9612c",
   "metadata": {},
   "outputs": [
    {
     "name": "stdout",
     "output_type": "stream",
     "text": [
      "total_population = 16\n",
      "    degree  salary_more_then_100k\n",
      "0        0                      0\n",
      "2        0                      1\n",
      "4        0                      0\n",
      "7        0                      0\n",
      "8        0                      0\n",
      "10       0                      1\n",
      "12       0                      1\n",
      "14       0                      1\n",
      "for 0 yes = 4 and no = 4\n",
      "Individual gini = 0.5\n",
      "Weighted gini = 0.25\n",
      "    degree  salary_more_then_100k\n",
      "1        1                      0\n",
      "3        1                      1\n",
      "5        1                      1\n",
      "6        1                      0\n",
      "9        1                      1\n",
      "11       1                      1\n",
      "13       1                      1\n",
      "15       1                      1\n",
      "for 1 yes = 2 and no = 6\n",
      "Individual gini = 0.375\n",
      "Weighted gini = 0.1875\n",
      "Gini for this group is :0.4375\n"
     ]
    }
   ],
   "source": [
    "group_gini = 0\n",
    "total_population = len(degree_df.index)\n",
    "print ('total_population = {}'.format(total_population))\n",
    "for i in range (0,2):\n",
    "    no ,yes = 0,0\n",
    "    df_loop = degree_df[degree_df['degree']==i]\n",
    "    print (df_loop)\n",
    "    a_ = df_loop['salary_more_then_100k'].value_counts()\n",
    "    if len(a_)==2 : \n",
    "        no,yes = a_\n",
    "    else: \n",
    "        if a_.index == 0: \n",
    "            no = a_[1]\n",
    "        else: \n",
    "            yes = a_[1]\n",
    "    print ('for {} yes = {} and no = {}'.format(i,yes,no))\n",
    "    gini = 1- pow((yes/(yes+no)),2)- pow ((no/(yes+no)),2)\n",
    "    print ('Individual gini = {}'.format(gini)) \n",
    "    w_gini = (yes+no)/total_population * gini\n",
    "    print ('Weighted gini = {}'.format(w_gini))\n",
    "    group_gini = group_gini + w_gini\n",
    "print ('Gini for this group is :{}'.format(group_gini))"
   ]
  },
  {
   "cell_type": "code",
   "execution_count": null,
   "id": "1da0a93d",
   "metadata": {},
   "outputs": [],
   "source": []
  }
 ],
 "metadata": {
  "kernelspec": {
   "display_name": "Python 3",
   "language": "python",
   "name": "python3"
  },
  "language_info": {
   "codemirror_mode": {
    "name": "ipython",
    "version": 3
   },
   "file_extension": ".py",
   "mimetype": "text/x-python",
   "name": "python",
   "nbconvert_exporter": "python",
   "pygments_lexer": "ipython3",
   "version": "3.8.8"
  }
 },
 "nbformat": 4,
 "nbformat_minor": 5
}
